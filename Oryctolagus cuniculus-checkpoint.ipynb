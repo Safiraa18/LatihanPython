{
 "cells": [
  {
   "cell_type": "code",
   "execution_count": 1,
   "id": "0997cdee-883b-449a-9030-c8c35b01d27d",
   "metadata": {},
   "outputs": [
    {
     "name": "stdout",
     "output_type": "stream",
     "text": [
      "b'<?xml version=\"1.0\" encoding=\"UTF-8\" ?>\\n<!DOCTYPE eInfoResult PUBLIC \"-//NLM//DTD einfo 20190110//EN\" \"https://eutils.ncbi.nlm.nih.gov/eutils/dtd/20190110/einfo.dtd\">\\n<eInfoResult>\\n<DbList>\\n\\n\\t<DbName>pubmed</DbName>\\n\\t<DbName>protein</DbName>\\n\\t<DbName>nuccore</DbName>\\n\\t<DbName>ipg</DbName>\\n\\t<DbName>nucleotide</DbName>\\n\\t<DbName>structure</DbName>\\n\\t<DbName>genome</DbName>\\n\\t<DbName>annotinfo</DbName>\\n\\t<DbName>assembly</DbName>\\n\\t<DbName>bioproject</DbName>\\n\\t<DbName>biosample</DbName>\\n\\t<DbName>blastdbinfo</DbName>\\n\\t<DbName>books</DbName>\\n\\t<DbName>cdd</DbName>\\n\\t<DbName>clinvar</DbName>\\n\\t<DbName>gap</DbName>\\n\\t<DbName>gapplus</DbName>\\n\\t<DbName>grasp</DbName>\\n\\t<DbName>dbvar</DbName>\\n\\t<DbName>gene</DbName>\\n\\t<DbName>gds</DbName>\\n\\t<DbName>geoprofiles</DbName>\\n\\t<DbName>homologene</DbName>\\n\\t<DbName>medgen</DbName>\\n\\t<DbName>mesh</DbName>\\n\\t<DbName>ncbisearch</DbName>\\n\\t<DbName>nlmcatalog</DbName>\\n\\t<DbName>omim</DbName>\\n\\t<DbName>orgtrack</DbName>\\n\\t<DbName>pmc</DbName>\\n\\t<DbName>popset</DbName>\\n\\t<DbName>proteinclusters</DbName>\\n\\t<DbName>pcassay</DbName>\\n\\t<DbName>protfam</DbName>\\n\\t<DbName>biosystems</DbName>\\n\\t<DbName>pccompound</DbName>\\n\\t<DbName>pcsubstance</DbName>\\n\\t<DbName>seqannot</DbName>\\n\\t<DbName>snp</DbName>\\n\\t<DbName>sra</DbName>\\n\\t<DbName>taxonomy</DbName>\\n\\t<DbName>biocollections</DbName>\\n\\t<DbName>gtr</DbName>\\n</DbList>\\n\\n</eInfoResult>\\n'\n"
     ]
    }
   ],
   "source": [
    "from Bio import Entrez\n",
    "Entrez.email = \"safiraa1832@gmail.com\" #Mandatory! Can be replaced with your personal email.\n",
    "\n",
    "#creating handle\n",
    "handle = Entrez.einfo() #invoking Bio.Entrez.einfo()\n",
    "print(handle.read())\n",
    "handle.close() #always close your handle after you finish"
   ]
  },
  {
   "cell_type": "code",
   "execution_count": 3,
   "id": "2e9a787d-78ca-42d5-8ff4-11b738d83b5b",
   "metadata": {},
   "outputs": [
    {
     "name": "stdout",
     "output_type": "stream",
     "text": [
      "{'Count': '17', 'RetMax': '17', 'RetStart': '0', 'IdList': ['126722771', '2086938758', '2086935605', '2059542781', '2059534045', '2059522664', '2059485846', '2059424665', '2059423854', '156119407', '1524650360', '2013847994', '1985836612', '1208044915', '1207838055', '4868340', '283562144'], 'TranslationSet': [{'From': 'Oryctolagus cuniculus', 'To': '\"Oryctolagus cuniculus\"[Organism] OR Oryctolagus cuniculus[All Fields]'}], 'TranslationStack': [{'Term': '\"Oryctolagus cuniculus\"[Organism]', 'Field': 'Organism', 'Count': '2299348', 'Explode': 'Y'}, {'Term': 'Oryctolagus cuniculus[All Fields]', 'Field': 'All Fields', 'Count': '2360472', 'Explode': 'N'}, 'OR', 'GROUP', {'Term': 'RYR1[All Fields]', 'Field': 'All Fields', 'Count': '2131', 'Explode': 'N'}, 'AND', 'GROUP'], 'QueryTranslation': '(\"Oryctolagus cuniculus\"[Organism] OR Oryctolagus cuniculus[All Fields]) AND RYR1[All Fields]'}\n"
     ]
    }
   ],
   "source": [
    "from Bio import Entrez\n",
    "Entrez.email = \"safiraa1832@gmail.com\" #Mandatory! Can be replaced with your personal email.\n",
    "\n",
    "#creating handle\n",
    "handle = Entrez.esearch(db=\"nuccore\", term=\"Oryctolagus cuniculus RYR1\")\n",
    "record = Entrez.read(handle)\n",
    "print(record)\n",
    "handle.close() #always close your handle after you finish"
   ]
  },
  {
   "cell_type": "code",
   "execution_count": 5,
   "id": "a6abda41-416f-4bd0-8eb2-3bea2ec2f8ce",
   "metadata": {
    "tags": []
   },
   "outputs": [
    {
     "name": "stdout",
     "output_type": "stream",
     "text": [
      "LOCUS       NM_001082145             327 bp    mRNA    linear   MAM 06-MAR-2022\n",
      "DEFINITION  Oryctolagus cuniculus FKBP prolyl isomerase 1B (FKBP1B), mRNA.\n",
      "ACCESSION   NM_001082145\n",
      "VERSION     NM_001082145.1\n",
      "KEYWORDS    RefSeq.\n",
      "SOURCE      Oryctolagus cuniculus (rabbit)\n",
      "  ORGANISM  Oryctolagus cuniculus\n",
      "            Eukaryota; Metazoa; Chordata; Craniata; Vertebrata; Euteleostomi;\n",
      "            Mammalia; Eutheria; Euarchontoglires; Glires; Lagomorpha;\n",
      "            Leporidae; Oryctolagus.\n",
      "REFERENCE   1  (bases 1 to 327)\n",
      "  AUTHORS   Dhindwal S, Lobo J, Cabra V, Santiago DJ, Nayak AR, Dryden K and\n",
      "            Samso M.\n",
      "  TITLE     A cryo-EM-based model of phosphorylation- and FKBP12.6-mediated\n",
      "            allosterism of the cardiac ryanodine receptor\n",
      "  JOURNAL   Sci Signal 10 (480) (2017)\n",
      "   PUBMED   28536302\n",
      "  REMARK    GeneRIF: Study determined the three-dimensional structure of rabbit\n",
      "            RyR2 in complex with the regulatory protein FKBP12.6 in the closed\n",
      "            state at 11.8 A resolution using cryo-electron microscopy and built\n",
      "            an atomic model of RyR2.\n",
      "            Publication Status: Online-Only\n",
      "REFERENCE   2  (bases 1 to 327)\n",
      "  AUTHORS   Blayney LM, Jones JL, Griffiths J and Lai FA.\n",
      "  TITLE     A mechanism of ryanodine receptor modulation by FKBP12/12.6,\n",
      "            protein kinase A, and K201\n",
      "  JOURNAL   Cardiovasc Res 85 (1), 68-78 (2010)\n",
      "   PUBMED   19661110\n",
      "  REMARK    GeneRIF: phosphorylation and K201 acted similarly to change the\n",
      "            conformation of RyR1/2 and regulate FKBP12/12.6 binding.\n",
      "REFERENCE   3  (bases 1 to 327)\n",
      "  AUTHORS   Lee EH, Rho SH, Kwon SJ, Eom SH, Allen PD and Kim DH.\n",
      "  TITLE     N-terminal region of FKBP12 is essential for binding to the\n",
      "            skeletal ryanodine receptor\n",
      "  JOURNAL   J Biol Chem 279 (25), 26481-26488 (2004)\n",
      "   PUBMED   15033987\n",
      "REFERENCE   4  (bases 1 to 327)\n",
      "  AUTHORS   Jeyakumar LH, Ballester L, Cheng DS, McIntyre JO, Chang P, Olivey\n",
      "            HE, Rollins-Smith L, Barnett JV, Murray K, Xin HB and Fleischer S.\n",
      "  TITLE     FKBP binding characteristics of cardiac microsomes from diverse\n",
      "            vertebrates\n",
      "  JOURNAL   Biochem Biophys Res Commun 281 (4), 979-986 (2001)\n",
      "   PUBMED   11237759\n",
      "  REMARK    GeneRIF: Stoichiometry of binding sites and FKBP exchange binding.\n",
      "COMMENT     PROVISIONAL REFSEQ: This record has not yet been subject to final\n",
      "            NCBI review. The reference sequence was derived from AY159324.1.\n",
      "            \n",
      "            ##Evidence-Data-START##\n",
      "            Transcript exon combination :: AY159324.1, EB378231.1 [ECO:0000332]\n",
      "            RNAseq introns              :: single sample supports all introns\n",
      "                                           SAMEA1876818, SAMEA1876819\n",
      "                                           [ECO:0000348]\n",
      "            ##Evidence-Data-END##\n",
      "FEATURES             Location/Qualifiers\n",
      "     source          1..327\n",
      "                     /organism=\"Oryctolagus cuniculus\"\n",
      "                     /mol_type=\"mRNA\"\n",
      "                     /db_xref=\"taxon:9986\"\n",
      "                     /chromosome=\"2\"\n",
      "                     /map=\"2\"\n",
      "     gene            1..327\n",
      "                     /gene=\"FKBP1B\"\n",
      "                     /gene_synonym=\"FKBP12.6\"\n",
      "                     /note=\"FKBP prolyl isomerase 1B\"\n",
      "                     /db_xref=\"GeneID:100008888\"\n",
      "     CDS             1..327\n",
      "                     /gene=\"FKBP1B\"\n",
      "                     /gene_synonym=\"FKBP12.6\"\n",
      "                     /EC_number=\"5.2.1.8\"\n",
      "                     /note=\"FK506 binding protein 12.6; FKBP-1B; rotamase;\n",
      "                     FKBP-12.6; 12.6 kDa FKBP; PPIase FKBP1B; immunophilin\n",
      "                     FKBP12.6; 12.6 kDa FK506-binding protein; FK506 binding\n",
      "                     protein 1B, 12.6 kDa; FK506-binding protein 1B\"\n",
      "                     /codon_start=1\n",
      "                     /product=\"peptidyl-prolyl cis-trans isomerase FKBP1B\"\n",
      "                     /protein_id=\"NP_001075614.1\"\n",
      "                     /db_xref=\"GeneID:100008888\"\n",
      "                     /translation=\"MGVEIETISPGDGRTFPKKGQTCVVHYTGMLQNGKKFDSSRDRN\n",
      "                     KPFKFRIGKQEVIKGFEEGAAQMSLGQRAKLTCTPDVAYGATGHPGVIPPNATLIFGV\n",
      "                     ELLNLE\"\n",
      "ORIGIN      \n",
      "        1 atgggcgtgg agatcgagac catctccccc ggagacggga ggacgtttcc caagaagggc\n",
      "       61 caaacgtgtg tggtgcacta cacaggaatg ctccaaaatg ggaagaaatt tgattcatcc\n",
      "      121 agagacagaa acaaaccttt caagttccga attggcaaac aggaagtcat caaaggtttc\n",
      "      181 gaagaaggtg cagcccagat gagcttgggg cagagggcga agctgacctg cacccctgat\n",
      "      241 gtggcatacg gagccacggg ccaccccggt gtcatccctc ccaatgccac cctcatcttt\n",
      "      301 ggcgtggagc tgctcaactt agagtga\n",
      "//\n",
      "\n",
      "\n"
     ]
    }
   ],
   "source": [
    "from Bio import Entrez\n",
    "Entrez.email = \"safiraa1832@gmail.com\"\n",
    "\n",
    "#creating EFetch handle\n",
    "efetch_handle = Entrez.efetch(db=\"nuccore\", id=\"126722771\", rettype=\"gb\", retmode=\"text\")\n",
    "gbrecord = efetch_handle.read()\n",
    "print(gbrecord)"
   ]
  },
  {
   "cell_type": "code",
   "execution_count": 7,
   "id": "9e9d0e00-987c-4d4d-934c-0f663d91f4eb",
   "metadata": {
    "tags": []
   },
   "outputs": [
    {
     "name": "stdout",
     "output_type": "stream",
     "text": [
      ">NM_001082145.1 Oryctolagus cuniculus FKBP prolyl isomerase 1B (FKBP1B), mRNA\n",
      "ATGGGCGTGGAGATCGAGACCATCTCCCCCGGAGACGGGAGGACGTTTCCCAAGAAGGGCCAAACGTGTG\n",
      "TGGTGCACTACACAGGAATGCTCCAAAATGGGAAGAAATTTGATTCATCCAGAGACAGAAACAAACCTTT\n",
      "CAAGTTCCGAATTGGCAAACAGGAAGTCATCAAAGGTTTCGAAGAAGGTGCAGCCCAGATGAGCTTGGGG\n",
      "CAGAGGGCGAAGCTGACCTGCACCCCTGATGTGGCATACGGAGCCACGGGCCACCCCGGTGTCATCCCTC\n",
      "CCAATGCCACCCTCATCTTTGGCGTGGAGCTGCTCAACTTAGAGTGA\n",
      "\n",
      "\n"
     ]
    }
   ],
   "source": [
    "from Bio import Entrez\n",
    "Entrez.email = \"safiraa1832@gmail.com\" #Mandatory! Can be replaced with your personal email.\n",
    "\n",
    "#creating EFetch handle\n",
    "efetch_handle = Entrez.efetch(db=\"nuccore\", id=\"126722771\", rettype=\"fasta\", retmode=\"text\")\n",
    "fasta_record = efetch_handle.read()\n",
    "print(fasta_record)"
   ]
  },
  {
   "cell_type": "code",
   "execution_count": 11,
   "id": "7de8e1b6-6d45-4158-8c7a-6d5f5534105a",
   "metadata": {
    "tags": []
   },
   "outputs": [
    {
     "name": "stdout",
     "output_type": "stream",
     "text": [
      "FASTA Download\n"
     ]
    }
   ],
   "source": [
    "import os\n",
    "#creating Efetch handle\n",
    "filename = \"Oryctolagus cuniculus RYR1.fas\" #up to you, but Genbank files always use *.gb or *.gbk \n",
    "\n",
    "#creating EFetch handle\n",
    "if not os.path.isfile(filename):\n",
    "    # Downloading file...\n",
    "    efetch_handle = Entrez.efetch(db=\"nuccore\", id=\"126722771\", rettype=\"fasta\", retmode=\"text\")\n",
    "    output_file_handle = open(filename, \"w\")\n",
    "    output_file_handle.write(efetch_handle.read())\n",
    "    output_file_handle.close()\n",
    "    efetch_handle.close()\n",
    "print(\"FASTA Download\")"
   ]
  },
  {
   "cell_type": "code",
   "execution_count": 12,
   "id": "43fe01d3-8f24-45a7-bfc9-36ddc9d839a1",
   "metadata": {},
   "outputs": [
    {
     "name": "stdout",
     "output_type": "stream",
     "text": [
      "GB Download\n"
     ]
    }
   ],
   "source": [
    "import os\n",
    "#creating EFetch handle\n",
    "filename = \"Oryctolagus cuniculus RYR1.gbk\" #up to you, but Genbank files always use *.gb or *.gbk \n",
    "\n",
    "#creating EFetch handle\n",
    "if not os.path.isfile(filename):\n",
    "    # Downloading file...\n",
    "    efetch_handle = Entrez.efetch(db=\"nuccore\", id=\"126722771\", rettype=\"gb\", retmode=\"text\")\n",
    "    output_file_handle = open(filename, \"w\")\n",
    "    output_file_handle.write(efetch_handle.read())\n",
    "    output_file_handle.close()\n",
    "    efetch_handle.close()\n",
    "    print(\"GB Download\")"
   ]
  },
  {
   "cell_type": "code",
   "execution_count": 20,
   "id": "1a6765b7-bf1c-4980-8ab6-0a17648c3c29",
   "metadata": {},
   "outputs": [
    {
     "name": "stdout",
     "output_type": "stream",
     "text": [
      ">RYR1|Oryctolagus cuniculus FKBP prolyl isomerase 1B (FKBP1B), mRNA\n",
      "ATGGGCGTGGAGATCGAGACCATCTCCCCCGGAGACGGGAGGACGTTTCCCAAGAAGGGCCAAACGTGTGTGGTGCACTACACAGGAATGCTCCAAAATGGGAAGAAATTTGATTCATCCAGAGACAGAAACAAACCTTTCAAGTTCCGAATTGGCAAACAGGAAGTCATCAAAGGTTTCGAAGAAGGTGCAGCCCAGATGAGCTTGGGGCAGAGGGCGAAGCTGACCTGCACCCCTGATGTGGCATACGGAGCCACGGGCCACCCCGGTGTCATCCCTCCCAATGCCACCCTCATCTTTGGCGTGGAGCTGCTCAACTTAGAGTGA\n"
     ]
    }
   ],
   "source": [
    "from Bio import SeqIO\n",
    "\n",
    "GoI = \"RYR1\"\n",
    "for genome in SeqIO.parse(\"Oryctolagus cuniculus RYR1.gbk\",\"genbank\"):\n",
    "    for gene in genome.features:\n",
    "        if gene.type != \"CDS\":\n",
    "            continue\n",
    "        if \"gene\" not in gene.qualifiers: \n",
    "            continue\n",
    "        if GoI not in gene.qualifiers[\"gene\"][0]: \n",
    "            continue\n",
    "    gene_seq = gene.extract(genome.seq)\n",
    "\n",
    "GoI_fasta = \">%s|%s\\n%s\" % (GoI, genome.description, gene_seq)\n",
    "print(GoI_fasta)"
   ]
  },
  {
   "cell_type": "code",
   "execution_count": 21,
   "id": "2525cc97-9789-45c2-b07e-46429b22fd0f",
   "metadata": {},
   "outputs": [],
   "source": [
    "from Bio import SeqIO\n",
    "\n",
    "GoI = \"RYR1\"\n",
    "for genome in SeqIO.parse(\"Oryctolagus cuniculus RYR1.gbk\",\"genbank\"):\n",
    "    for gene in genome.features:\n",
    "        if gene.type != \"CDS\":\n",
    "            continue\n",
    "        if \"gene\" not in gene.qualifiers: \n",
    "            continue\n",
    "        if GoI not in gene.qualifiers[\"gene\"][0]: \n",
    "            continue\n",
    "    gene_seq = gene.extract(genome.seq)\n",
    "\n",
    "GoI_fasta = \">%s|%s\\n%s\" % (GoI, genome.description, gene_seq)\n",
    "with open(\"GoI_fasta.fasta\",\"w\") as f:\n",
    "    f.write(GoI_fasta)"
   ]
  },
  {
   "cell_type": "code",
   "execution_count": null,
   "id": "4796ba29-ccb7-42fd-8916-1d15f1a1c388",
   "metadata": {},
   "outputs": [],
   "source": []
  }
 ],
 "metadata": {
  "kernelspec": {
   "display_name": "Python 3 (ipykernel)",
   "language": "python",
   "name": "python3"
  },
  "language_info": {
   "codemirror_mode": {
    "name": "ipython",
    "version": 3
   },
   "file_extension": ".py",
   "mimetype": "text/x-python",
   "name": "python",
   "nbconvert_exporter": "python",
   "pygments_lexer": "ipython3",
   "version": "3.9.7"
  }
 },
 "nbformat": 4,
 "nbformat_minor": 5
}
